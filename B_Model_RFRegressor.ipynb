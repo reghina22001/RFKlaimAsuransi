{
 "cells": [
  {
   "cell_type": "code",
   "execution_count": 1,
   "metadata": {},
   "outputs": [],
   "source": [
    "import pandas as pd\n",
    "from sklearn.model_selection import train_test_split\n",
    "from sklearn.ensemble import RandomForestRegressor\n",
    "from sklearn.metrics import mean_squared_error, r2_score\n",
    "import numpy as np\n",
    "import joblib\n",
    "import warnings\n",
    "\n",
    "warnings.filterwarnings('ignore')"
   ]
  },
  {
   "cell_type": "markdown",
   "metadata": {},
   "source": [
    "## 1. Data Loading"
   ]
  },
  {
   "cell_type": "code",
   "execution_count": 3,
   "metadata": {},
   "outputs": [],
   "source": [
    "df = pd.read_csv('A_dataset_pengajuan_bpjs_dengan_status.csv', delimiter=';')"
   ]
  },
  {
   "cell_type": "markdown",
   "metadata": {},
   "source": [
    "## 2. Data Preprocessing"
   ]
  },
  {
   "cell_type": "code",
   "execution_count": 4,
   "metadata": {},
   "outputs": [],
   "source": [
    "# Konversi kolom kategorikal menjadi numerik dengan one-hot encoding\n",
    "categorical_cols = [\"KELAS_RS\", \"ADL1\", \"ADL2\", \"PAYOR_ID\"]\n",
    "df = pd.get_dummies(df, columns=categorical_cols, drop_first=True)\n",
    "\n",
    "# Konversi kolom tanggal menjadi bertipe data datetime dan hitung fitur tambahan yang relevan\n",
    "df[\"ADMISSION_DATE\"] = pd.to_datetime(df[\"ADMISSION_DATE\"])\n",
    "df[\"DISCHARGE_DATE\"] = pd.to_datetime(df[\"DISCHARGE_DATE\"])\n",
    "df[\"BIRTH_DATE\"] = pd.to_datetime(df[\"BIRTH_DATE\"])\n",
    "\n",
    "df[\"LOS_CALCULATED\"] = (df[\"DISCHARGE_DATE\"] - df[\"ADMISSION_DATE\"]).dt.days\n",
    "df[\"AGE_AT_ADMISSION\"] = (df[\"ADMISSION_DATE\"] - df[\"BIRTH_DATE\"]).dt.days / 365.25\n",
    "\n",
    "# Handle kolom 'VERSI_INACBG', sesuaikan format desimalnya\n",
    "df['VERSI_INACBG'] = df['VERSI_INACBG'].str.replace(',', '.', regex=False).astype(float)\n",
    "\n",
    "# Hapus kolom yang tidak relevan untuk user input\n",
    "columns_to_drop = [\n",
    "    \"KODE_RS\", \"KODE_TARIF\", \"PTD\", #dihapus karena merupakan ID unik\n",
    "    \"INACBG\", \"DESKRIPSI_INACBG\", \"DESKRIPSI_SP\", \"DESKRIPSI_SR\", \"DESKRIPSI_SI\", \"DESKRIPSI_SD\",\n",
    "    \"NAMA_FILE\", \"ADMISSION_DATE\", \"DISCHARGE_DATE\", \"BIRTH_DATE\", #dihapus karena informasi sudah diekstrak\n",
    "    \"SEP\", \"C1\", \"C2\", \"C3\", \"C4\", \"DIAGLIST\", \"PROCLIST\"\n",
    "]\n",
    "\n",
    "df = df.drop(columns=columns_to_drop, errors=\"ignore\")"
   ]
  },
  {
   "cell_type": "code",
   "execution_count": 5,
   "metadata": {},
   "outputs": [
    {
     "name": "stdout",
     "output_type": "stream",
     "text": [
      "<class 'pandas.core.frame.DataFrame'>\n",
      "RangeIndex: 10000 entries, 0 to 9999\n",
      "Data columns (total 44 columns):\n",
      " #   Column              Non-Null Count  Dtype  \n",
      "---  ------              --------------  -----  \n",
      " 0   KELAS_RAWAT         10000 non-null  int64  \n",
      " 1   BIRTH_WEIGHT        10000 non-null  int64  \n",
      " 2   SEX                 10000 non-null  int64  \n",
      " 3   DISCHARGE_STATUS    10000 non-null  int64  \n",
      " 4   TARIF_INACBG        10000 non-null  int64  \n",
      " 5   TARIF_SUBACUTE      10000 non-null  int64  \n",
      " 6   TARIF_CHRONIC       10000 non-null  int64  \n",
      " 7   TARIF_SP            10000 non-null  int64  \n",
      " 8   TARIF_SR            10000 non-null  int64  \n",
      " 9   TARIF_SI            10000 non-null  int64  \n",
      " 10  TARIF_SD            10000 non-null  int64  \n",
      " 11  TOTAL_TARIF         10000 non-null  int64  \n",
      " 12  TARIF_RS            10000 non-null  int64  \n",
      " 13  TARIF_POLI_EKS      10000 non-null  int64  \n",
      " 14  LOS                 10000 non-null  int64  \n",
      " 15  ICU_INDIKATOR       10000 non-null  int64  \n",
      " 16  ICU_LOS             10000 non-null  int64  \n",
      " 17  VENT_HOUR           10000 non-null  int64  \n",
      " 18  UMUR_TAHUN          10000 non-null  int64  \n",
      " 19  UMUR_HARI           10000 non-null  int64  \n",
      " 20  VERSI_INACBG        10000 non-null  float64\n",
      " 21  VERSI_GROUPER       10000 non-null  int64  \n",
      " 22  PROSEDUR_NON_BEDAH  10000 non-null  int64  \n",
      " 23  PROSEDUR_BEDAH      10000 non-null  int64  \n",
      " 24  KONSULTASI          10000 non-null  int64  \n",
      " 25  TENAGA_AHLI         10000 non-null  int64  \n",
      " 26  KEPERAWATAN         10000 non-null  int64  \n",
      " 27  PENUNJANG           10000 non-null  int64  \n",
      " 28  RADIOLOGI           10000 non-null  int64  \n",
      " 29  LABORATORIUM        10000 non-null  int64  \n",
      " 30  PELAYANAN_DARAH     10000 non-null  int64  \n",
      " 31  REHABILITASI        10000 non-null  int64  \n",
      " 32  KAMAR_AKOMODASI     10000 non-null  int64  \n",
      " 33  RAWAT_INTENSIF      10000 non-null  int64  \n",
      " 34  OBAT                10000 non-null  int64  \n",
      " 35  ALKES               10000 non-null  int64  \n",
      " 36  BMHP                10000 non-null  int64  \n",
      " 37  SEWA_ALAT           10000 non-null  int64  \n",
      " 38  OBAT_KRONIS         10000 non-null  int64  \n",
      " 39  OBAT_KEMO           10000 non-null  int64  \n",
      " 40  status              10000 non-null  int64  \n",
      " 41  ADL1_12             10000 non-null  bool   \n",
      " 42  LOS_CALCULATED      10000 non-null  int64  \n",
      " 43  AGE_AT_ADMISSION    10000 non-null  float64\n",
      "dtypes: bool(1), float64(2), int64(41)\n",
      "memory usage: 3.3 MB\n"
     ]
    }
   ],
   "source": [
    "df.info()"
   ]
  },
  {
   "cell_type": "markdown",
   "metadata": {},
   "source": [
    "## 3. Feature and Target Split"
   ]
  },
  {
   "cell_type": "code",
   "execution_count": 6,
   "metadata": {},
   "outputs": [
    {
     "name": "stdout",
     "output_type": "stream",
     "text": [
      "Number of features (X): 41\n",
      "Shape of target (y): (10000,)\n"
     ]
    }
   ],
   "source": [
    "X = df.drop(columns=[\"TARIF_RS\", \"status\"], errors='ignore')\n",
    "y = df[\"TARIF_RS\"]\n",
    "\n",
    "X = X.select_dtypes(include=np.number)\n",
    "\n",
    "print(f\"Number of features (X): {X.shape[1]}\")\n",
    "print(f\"Shape of target (y): {y.shape}\")"
   ]
  },
  {
   "cell_type": "markdown",
   "metadata": {},
   "source": [
    "## 4. Train-Test Split"
   ]
  },
  {
   "cell_type": "code",
   "execution_count": 7,
   "metadata": {},
   "outputs": [
    {
     "name": "stdout",
     "output_type": "stream",
     "text": [
      "X_train shape: (8000, 41)\n",
      "X_test shape: (2000, 41)\n",
      "y_train shape: (8000,)\n",
      "y_test shape: (2000,)\n"
     ]
    }
   ],
   "source": [
    "X_train, X_test, y_train, y_test = train_test_split(X, y, test_size=0.2, random_state=42)\n",
    "\n",
    "print(f\"X_train shape: {X_train.shape}\")\n",
    "print(f\"X_test shape: {X_test.shape}\")\n",
    "print(f\"y_train shape: {y_train.shape}\")\n",
    "print(f\"y_test shape: {y_test.shape}\")"
   ]
  },
  {
   "cell_type": "markdown",
   "metadata": {},
   "source": [
    "## 5. Model Training (Random Forest Regressor)"
   ]
  },
  {
   "cell_type": "code",
   "execution_count": 8,
   "metadata": {},
   "outputs": [
    {
     "name": "stdout",
     "output_type": "stream",
     "text": [
      "Random Forest Regressor model training complete.\n"
     ]
    }
   ],
   "source": [
    "regressor_model = RandomForestRegressor(n_estimators=100, random_state=42, n_jobs=-1)\n",
    "regressor_model.fit(X_train, y_train)\n",
    "\n",
    "print(\"Random Forest Regressor model training complete.\")"
   ]
  },
  {
   "cell_type": "markdown",
   "metadata": {},
   "source": [
    "## 6. Model Evaluation"
   ]
  },
  {
   "cell_type": "code",
   "execution_count": 9,
   "metadata": {},
   "outputs": [
    {
     "name": "stdout",
     "output_type": "stream",
     "text": [
      "Mean Squared Error (MSE): 2123416750616.00\n",
      "Root Mean Squared Error (RMSE): 1457194.82\n",
      "R-squared (R2): 0.97\n"
     ]
    }
   ],
   "source": [
    "y_pred = regressor_model.predict(X_test)\n",
    "\n",
    "mse = mean_squared_error(y_test, y_pred)\n",
    "rmse = np.sqrt(mse)\n",
    "r2 = r2_score(y_test, y_pred)\n",
    "\n",
    "print(f\"Mean Squared Error (MSE): {mse:.2f}\")\n",
    "print(f\"Root Mean Squared Error (RMSE): {rmse:.2f}\")\n",
    "print(f\"R-squared (R2): {r2:.2f}\")"
   ]
  },
  {
   "cell_type": "markdown",
   "metadata": {},
   "source": [
    "## 7. Save Model and Feature Columns"
   ]
  },
  {
   "cell_type": "code",
   "execution_count": 11,
   "metadata": {},
   "outputs": [
    {
     "name": "stdout",
     "output_type": "stream",
     "text": [
      "Model regressor disimpan.\n"
     ]
    }
   ],
   "source": [
    "joblib.dump(regressor_model, 'C_regressor_model.pkl')\n",
    "\n",
    "print(\"Model regressor disimpan.\")"
   ]
  },
  {
   "cell_type": "code",
   "execution_count": null,
   "metadata": {},
   "outputs": [],
   "source": []
  }
 ],
 "metadata": {
  "kernelspec": {
   "display_name": "Python 3",
   "language": "python",
   "name": "python3"
  },
  "language_info": {
   "codemirror_mode": {
    "name": "ipython",
    "version": 3
   },
   "file_extension": ".py",
   "mimetype": "text/x-python",
   "name": "python",
   "nbconvert_exporter": "python",
   "pygments_lexer": "ipython3",
   "version": "3.11.5"
  }
 },
 "nbformat": 4,
 "nbformat_minor": 4
}
